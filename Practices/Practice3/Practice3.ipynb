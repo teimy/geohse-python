{
 "cells": [
  {
   "cell_type": "markdown",
   "id": "2fc5643d-8eaf-4d23-99c6-50507c359144",
   "metadata": {},
   "source": [
    "# **Практическое занятие 3: методично функционируем**\n",
    "\n",
    "## **План семинара**\n",
    "\n",
    "- Как будет устроено занятие?\n",
    "- Чего мы хотим добиться сегодня?\n",
    "- Тезисно вспоминаем основные понятия с лекции\n",
    "    - Вопросы?\n",
    "- Подводим итоги"
   ]
  },
  {
   "cell_type": "markdown",
   "id": "921bb7e0-d757-4ad4-9b14-10f7b4bba79e",
   "metadata": {},
   "source": [
    "## **Основные понятия с лекции**\n",
    "\n",
    "## **Вложенные списки**\n",
    "\n",
    "Элементами списков могут быть другие списки, такие списки называются *вложенными*. Например, вот так будет выглядеть таблица умножения от 4 до 4:"
   ]
  },
  {
   "cell_type": "code",
   "execution_count": 1,
   "id": "b4d34a91-e623-4029-ac7d-8d70291d14b9",
   "metadata": {},
   "outputs": [
    {
     "data": {
      "text/plain": [
       "[[1, 2, 3, 4], [2, 4, 6, 8], [3, 6, 9, 12], [4, 8, 12, 16]]"
      ]
     },
     "execution_count": 1,
     "metadata": {},
     "output_type": "execute_result"
    }
   ],
   "source": [
    "table = [[1, 2, 3, 4],\n",
    "         [2, 4, 6, 8],\n",
    "         [3, 6, 9, 12],\n",
    "         [4, 8, 12, 16]]\n",
    "table"
   ]
  },
  {
   "cell_type": "markdown",
   "id": "b64e1fa6-8d6e-4637-8f1f-8d66fe203c00",
   "metadata": {},
   "source": [
    "## **Функции**\n",
    "\n",
    "Функции можно описать следующей схемой:\n",
    "![](pictures/1.jpg)\n",
    "\n",
    "Примеры функций:\n",
    "- `type()` &ndash; возвращает тип переменной\n",
    "- `str()` &ndash; конвертирует переменную в строку\n",
    "- `int()` &ndash; конвертирует переменную в `integer`\n",
    "\n",
    "Примеры использования:"
   ]
  },
  {
   "cell_type": "code",
   "execution_count": 56,
   "id": "0e8faf3d-c37f-483f-8461-01b188d3579e",
   "metadata": {},
   "outputs": [
    {
     "name": "stdout",
     "output_type": "stream",
     "text": [
      "<class 'int'> <class 'float'> <class 'str'>\n"
     ]
    }
   ],
   "source": [
    "a = 1\n",
    "b = 1.0\n",
    "c = 'Hello world!'\n",
    "\n",
    "type_a = type(a)\n",
    "type_b = type(b)\n",
    "type_c = type(c)\n",
    "\n",
    "print(type_a, type_b, type_c)"
   ]
  },
  {
   "cell_type": "markdown",
   "id": "4709a5eb-3687-4dc3-8fe6-c0917aeb9774",
   "metadata": {},
   "source": [
    "### Функции для списков и строк\n",
    "\n",
    "- `sorted`: возвращает уже отсортированный список\n",
    "- `len`: возвращает длину списка\n",
    "- `max`: возвращает максимальный элемент списка\n",
    "- `min`: возвращает минимальный элемент списка \n",
    "- `mean`: возвращает среднее элементов списка \n",
    "\n",
    "С помощью `len` мы можем спокойно проходиться по индексам списка:"
   ]
  },
  {
   "cell_type": "code",
   "execution_count": 6,
   "id": "4fc29c20-e149-4cf9-ad99-8181e05bebd0",
   "metadata": {},
   "outputs": [
    {
     "name": "stdout",
     "output_type": "stream",
     "text": [
      "Список l: [3, 6.4, 10, 1, -20, 7.5, 0.3333333333333333]\n",
      "Длина списка l: 7\n",
      "3\n",
      "6.4\n",
      "10\n",
      "1\n",
      "-20\n",
      "7.5\n",
      "0.3333333333333333\n"
     ]
    }
   ],
   "source": [
    "l = [3, 6.4, 10, 1, -20, 30/4, 1/3]\n",
    "len_l = len(l)\n",
    "\n",
    "print('Список l:', l)\n",
    "print('Длина списка l:', len_l)\n",
    "\n",
    "for i in range(len_l):\n",
    "    print(l[i])"
   ]
  },
  {
   "cell_type": "markdown",
   "id": "2a5a78bb-1c18-4369-bb87-7ec2e3cda8cb",
   "metadata": {},
   "source": [
    "У функций бывают опциональные аргументы, например:"
   ]
  },
  {
   "cell_type": "code",
   "execution_count": 14,
   "id": "46c84f50-6c15-43e8-b93a-a08c95a42a54",
   "metadata": {},
   "outputs": [
    {
     "name": "stdout",
     "output_type": "stream",
     "text": [
      "Отсортированный список: [-20, 0.3333333333333333, 1, 3, 6.4, 7.5, 10]\n",
      "Список отсортированный в обратном порядке: [10, 7.5, 6.4, 3, 1, 0.3333333333333333, -20]\n"
     ]
    }
   ],
   "source": [
    "l = [3, 6.4, 10, 1, -20, 30/4, 1/3]\n",
    "\n",
    "l_sorted = sorted(l, reverse=False) # False является значением аргумента по умолчанию (дефолтным)\n",
    "l_sorted_reverse = sorted(l, reverse=True)\n",
    "\n",
    "print('Отсортированный список:', l_sorted)\n",
    "print('Список отсортированный в обратном порядке:', l_sorted_reverse)"
   ]
  },
  {
   "cell_type": "markdown",
   "id": "6e9ce4c6-df64-4da8-8aed-28d859010fa5",
   "metadata": {},
   "source": [
    "### Написание функций своими руками\n",
    "\n",
    "Синтаксис:\n",
    "\n",
    "``` python\n",
    "def название(аргумент1, аргумент2):\n",
    "    *код внутри функции*\n",
    "    *код внутри функции*\n",
    "    *код внутри функции*\n",
    "    return возвращаемое_значение\n",
    "```\n",
    "\n",
    "Пример:"
   ]
  },
  {
   "cell_type": "code",
   "execution_count": 20,
   "id": "ce3080f4-3129-4b46-a237-83bc3b75dcc9",
   "metadata": {},
   "outputs": [
    {
     "data": {
      "text/plain": [
       "10"
      ]
     },
     "execution_count": 20,
     "metadata": {},
     "output_type": "execute_result"
    }
   ],
   "source": [
    "def multiply(a, b):\n",
    "    c = a*b\n",
    "    return c\n",
    "    \n",
    "multiply(2, 5)"
   ]
  },
  {
   "cell_type": "markdown",
   "id": "a68f5bd5",
   "metadata": {},
   "source": [
    "> ✨ ☝️ Переменные, которые вы объявлете в функции недоступны вне этой функции. Они называются *локальным*, а переменные объявленные вне функции называются *глобальными*. Постарайтесь не использовать *глобальные* переменные внутри функции: если вам нужно использовать внешнюю переменную, передайте ее как аргумент функции."
   ]
  },
  {
   "cell_type": "markdown",
   "id": "98750c38-400d-48b8-8eae-9a0617097d87",
   "metadata": {},
   "source": [
    "### Объекты и методы\n",
    "\n",
    "У некоторых типов данных в `python` есть вшитые в них функции. Они называют методами и доступны через точку. Посмотрим на методы строк:"
   ]
  },
  {
   "cell_type": "code",
   "execution_count": 21,
   "id": "e771496c-7fbb-4094-ae88-0634aea84b25",
   "metadata": {},
   "outputs": [
    {
     "name": "stdout",
     "output_type": "stream",
     "text": [
      "Метод .upper() возвращает строчку капсом: HELLO WORLD!\n",
      "Метод .lower() возвращает строчку прописными (маленькими) буквами: hello world!\n"
     ]
    }
   ],
   "source": [
    "sample = 'Hello world!'\n",
    "print('Метод .upper() возвращает строчку капсом:', sample.upper())\n",
    "print('Метод .lower() возвращает строчку прописными (маленькими) буквами:', sample.lower())"
   ]
  },
  {
   "cell_type": "markdown",
   "id": "6d6ef70b-9a39-40bb-99c2-ba3ce313ed44",
   "metadata": {},
   "source": [
    "`.find()` позволяет найти положение нужного символа или несколькоих символов (*подстроки* или *substring*) в строке. Возвращает этот метод индекс (позицию) этого символа в строке:"
   ]
  },
  {
   "cell_type": "code",
   "execution_count": 24,
   "id": "9ac5a697-ac36-44aa-a05a-f878de57d95e",
   "metadata": {},
   "outputs": [
    {
     "name": "stdout",
     "output_type": "stream",
     "text": [
      "184\n",
      "с\n"
     ]
    }
   ],
   "source": [
    "# сделаем строку с огромным количеством английских символов c и спрячем туда одну кириллическую с\n",
    "ccc = 'c c c c c c c c c c c c c c c c c c c c c c c c c c c c c c c c c c c c c c c c c c c c c c c c c c c c c c c c c c c c c c c c c c c c c c c c c c c c c c c c c c c c c c c c c c c c с c c c c c c c c c c c c c c c c c c c c c c c c c c c c c c c c c c c c c c c c c c c c c c c c c c c c c c c c c c c c c c c c c c c c c c c c c c c c c'\n",
    "index = ccc.find('с') # теперь ищем кириллическую с, получаем ее индекс в строке\n",
    "print(index)\n",
    "print(ccc[index])"
   ]
  },
  {
   "cell_type": "markdown",
   "id": "c0c2a45a",
   "metadata": {},
   "source": [
    "> ☝ Вместо метода `.find()`, иногда можно использовать ключевое слова `in`. Например, можно сделать следующее:\n",
    "> ```python\n",
    "> 'Hello' in 'Hello world!' \n",
    "> > True \n",
    "> ```\n",
    "> Но не получится найти индекс, только проверить вхождение подстроки в подстроку!"
   ]
  },
  {
   "cell_type": "markdown",
   "id": "402a1a5c-9194-4b21-80ef-db0b95eb8903",
   "metadata": {},
   "source": [
    "`.split()` позволяет разделять строки задав разделитель как аргумент. Возвращает этот метод список строк. Например:"
   ]
  },
  {
   "cell_type": "code",
   "execution_count": 28,
   "id": "52427556-4e1d-46cb-bd91-cf508a04e4bd",
   "metadata": {},
   "outputs": [
    {
     "name": "stdout",
     "output_type": "stream",
     "text": [
      "['Заходят', 'Гегель,', 'Гаусс', 'и', 'Гарри', 'Дюбуа', 'в', 'бар,', 'а', 'там...']\n"
     ]
    }
   ],
   "source": [
    "sentence = 'Заходят Гегель, Гаусс и Гарри Дюбуа в бар, а там...'\n",
    "words = sentence.split(' ')\n",
    "\n",
    "print(words)"
   ]
  },
  {
   "cell_type": "markdown",
   "id": "dadc3e44-5dcf-4839-875b-af03666ec56d",
   "metadata": {},
   "source": [
    "# **Семинарские задания (0.4 балла)**\n",
    "\n",
    "### Баг в муравейнике\n",
    "\n",
    "**(0.05 балла)** Почему не работает следующий блок кода?"
   ]
  },
  {
   "cell_type": "code",
   "execution_count": 1,
   "id": "ede4862f-a357-4c27-bce3-17173e78d329",
   "metadata": {},
   "outputs": [
    {
     "ename": "AttributeError",
     "evalue": "'NoneType' object has no attribute 'append'",
     "output_type": "error",
     "traceback": [
      "\u001b[0;31m---------------------------------------------------------------------------\u001b[0m",
      "\u001b[0;31mAttributeError\u001b[0m                            Traceback (most recent call last)",
      "Cell \u001b[0;32mIn[1], line 3\u001b[0m\n\u001b[1;32m      1\u001b[0m a \u001b[38;5;241m=\u001b[39m []\n\u001b[1;32m      2\u001b[0m \u001b[38;5;28;01mfor\u001b[39;00m i \u001b[38;5;129;01min\u001b[39;00m \u001b[38;5;28mrange\u001b[39m(\u001b[38;5;241m10\u001b[39m):\n\u001b[0;32m----> 3\u001b[0m     a \u001b[38;5;241m=\u001b[39m a\u001b[38;5;241m.\u001b[39mappend(i)\n",
      "\u001b[0;31mAttributeError\u001b[0m: 'NoneType' object has no attribute 'append'"
     ]
    }
   ],
   "source": [
    "a = []\n",
    "for i in range(10):\n",
    "    a = a.append(i)"
   ]
  },
  {
   "cell_type": "markdown",
   "id": "edc2a23f-e876-4c91-b4bf-4d5680cd8b21",
   "metadata": {},
   "source": [
    "**(0.05 балла)** А c этим что не так?"
   ]
  },
  {
   "cell_type": "code",
   "execution_count": 25,
   "id": "069cabf4-dc01-4abd-9860-7c60112cfcf3",
   "metadata": {},
   "outputs": [
    {
     "name": "stdout",
     "output_type": "stream",
     "text": [
      "None\n"
     ]
    }
   ],
   "source": [
    "def fun(a, b):\n",
    "    c = (1/a + b)**a\n",
    "\n",
    "c = fun(1, 2)\n",
    "print(c)"
   ]
  },
  {
   "cell_type": "markdown",
   "id": "34f59646-af36-4b87-b9d4-acac5fe71e7e",
   "metadata": {},
   "source": [
    "### Барбикор\n",
    "\n",
    "**(0.15 балла)** С помощью `python` превратите строчку в **новую строчку** написанную лесенкой. Например для строки \"Привет, Барби!\" выведите \"ПрИвЕт, БаРбИ!\":\n",
    "\n"
   ]
  },
  {
   "cell_type": "markdown",
   "id": "c903f956",
   "metadata": {},
   "source": [
    "<p>\n",
    "<details>\n",
    "<summary> <u> Подсказка </u> </summary>\n",
    "\n",
    "Вспомните задачку с суммой элементов массива: `+=` работает и для строк\n",
    "\n",
    "</details>\n",
    "</p>"
   ]
  },
  {
   "cell_type": "code",
   "execution_count": 7,
   "id": "9aed38f2-7020-4ea4-992f-77d4ca788857",
   "metadata": {},
   "outputs": [],
   "source": [
    "s = 'Привет, Барби!'\n",
    "\n",
    "# Ваш код"
   ]
  },
  {
   "cell_type": "markdown",
   "id": "28a89595",
   "metadata": {},
   "source": [
    "✨ **(0.1 балла)** Напишите функцию, которая принимает на вход строку и возвращает ее написанную лЕсЕнКоЙ, например для строки \"Привет, Барби!\" функция должна вернуть \"ПрИвЕт, БаРбИ!\"."
   ]
  },
  {
   "cell_type": "code",
   "execution_count": null,
   "id": "78bb42bf",
   "metadata": {},
   "outputs": [],
   "source": [
    "# Ваш код"
   ]
  },
  {
   "cell_type": "markdown",
   "id": "3c3695dc-58d5-4724-b718-cbd3741cf847",
   "metadata": {},
   "source": [
    "### Голова уже квадратная\n",
    "\n",
    "**(0.05 балла)** Напишите функцию, которая принимает на вход число, а возвращает квадрат этого числа:"
   ]
  },
  {
   "cell_type": "code",
   "execution_count": 1,
   "id": "5a60ff95-5110-4a53-9d9b-8a6df75e8d52",
   "metadata": {},
   "outputs": [],
   "source": [
    "# Ваш код"
   ]
  },
  {
   "cell_type": "markdown",
   "id": "389e7c80",
   "metadata": {},
   "source": [
    "✨ **(0.1 балла)** Напишите функцию, которая принимает на вход список чисел, а возвращает список квадратов этих чисел:"
   ]
  },
  {
   "cell_type": "markdown",
   "id": "8d873bb8",
   "metadata": {},
   "source": [
    "<p>\n",
    "<details>\n",
    "<summary> <u> Подсказка </u> </summary>\n",
    "\n",
    "Нужно использовать метод `append`.\n",
    "\n",
    "</details>\n",
    "</p>\n",
    "\n",
    "<p>\n",
    "<details>\n",
    "<summary> <u> Подсказка 2 </u> </summary>\n",
    "\n",
    "Посмотрите что мы делали в лекции!\n",
    "\n",
    "</details>\n",
    "</p>"
   ]
  },
  {
   "cell_type": "code",
   "execution_count": 2,
   "id": "0b880f18",
   "metadata": {},
   "outputs": [],
   "source": [
    "# Ваш код"
   ]
  },
  {
   "cell_type": "markdown",
   "id": "9ce77141-aabc-4dba-9910-147f4dbddf71",
   "metadata": {},
   "source": [
    "### Вычисляем размер частиц\n",
    "\n",
    "**(0.1 балл)** Студент геофака пытается обработать данные для своей курсовой работы. Ему дали данные файла эксперимента, но вот незадача &ndash; вместо удобной таблички экспериментаторы вписали размер частиц снега в название файла. Оно выглядит так:\n",
    "`EXPERIM_(две цифры с номером)_(размер частиц)mm.txt`\n",
    "\n",
    "Сделайте новый список, в котором будут размеры частиц для каждого файла (тип должен быть `int`):\n",
    "\n",
    "<p>\n",
    "<details>\n",
    "<summary> <u> Подсказка: </u> </summary>\n",
    "\n",
    "С помощью функции `int` можно превратить строчку (или другой типа) в `int`. Например:\n",
    "``` python\n",
    "size = '120'\n",
    "size_int = int(size)\n",
    "```\n",
    "\n",
    "</details>\n",
    "</p>"
   ]
  },
  {
   "cell_type": "code",
   "execution_count": 48,
   "id": "5e8aee82-cf93-4eb8-9d10-7a1b71da017c",
   "metadata": {},
   "outputs": [],
   "source": [
    "files = ['EXPERIM_00_120mm.txt',\n",
    "         'EXPERIM_01_160mm.txt',\n",
    "         'EXPERIM_02_170mm.txt',\n",
    "         'EXPERIM_03_100mm.txt',\n",
    "         'EXPERIM_04_100mm.txt',\n",
    "         'EXPERIM_05_160mm.txt',\n",
    "         'EXPERIM_06_190mm.txt',\n",
    "         'EXPERIM_07_130mm.txt',\n",
    "         'EXPERIM_08_170mm.txt',\n",
    "         'EXPERIM_09_110mm.txt',\n",
    "         'EXPERIM_10_150mm.txt',\n",
    "         'EXPERIM_11_100mm.txt',\n",
    "         'EXPERIM_12_180mm.txt',\n",
    "         'EXPERIM_13_100mm.txt',\n",
    "         'EXPERIM_14_160mm.txt',\n",
    "         'EXPERIM_15_190mm.txt',\n",
    "         'EXPERIM_16_170mm.txt',\n",
    "         'EXPERIM_17_130mm.txt',\n",
    "         'EXPERIM_18_160mm.txt',\n",
    "         'EXPERIM_19_110mm.txt']\n",
    "\n",
    "# Ваш код "
   ]
  },
  {
   "cell_type": "markdown",
   "id": "476e4eef-02f6-44f6-82d0-d431e62b3579",
   "metadata": {},
   "source": [
    "✨ **(0.1 балл)** А что если создатели были не так заботливы, и в номере эксперимента количество символов не было фиксировано? "
   ]
  },
  {
   "cell_type": "code",
   "execution_count": 49,
   "id": "9a08c64a-8986-4389-a121-db832912b811",
   "metadata": {},
   "outputs": [],
   "source": [
    "files_bad = ['EXPERIM_0_170mm.txt',\n",
    "             'EXPERIM_88_180mm.txt',\n",
    "             'EXPERIM_42_110mm.txt',\n",
    "             'EXPERIM_169_120mm.txt',\n",
    "             'EXPERIM_400_120mm.txt',\n",
    "             'EXPERIM_37_160mm.txt',\n",
    "             'EXPERIM_34_120mm.txt',\n",
    "             'EXPERIM_0_190mm.txt',\n",
    "             'EXPERIM_2559_110mm.txt',\n",
    "             'EXPERIM_0_100mm.txt',\n",
    "             'EXPERIM_5046_140mm.txt',\n",
    "             'EXPERIM_6_100mm.txt',\n",
    "             'EXPERIM_76_160mm.txt',\n",
    "             'EXPERIM_6352_160mm.txt',\n",
    "             'EXPERIM_0_130mm.txt',\n",
    "             'EXPERIM_6669_120mm.txt',\n",
    "             'EXPERIM_0_110mm.txt',\n",
    "             'EXPERIM_1_160mm.txt',\n",
    "             'EXPERIM_850_120mm.txt',\n",
    "             'EXPERIM_0_110mm.txt']\n",
    "\n",
    "# Ваш код "
   ]
  },
  {
   "cell_type": "markdown",
   "id": "12aaef1d",
   "metadata": {},
   "source": [
    "### Он дивен, палиндром! И ни морд, ни лап не видно… (задача из экзамена)\n",
    "\n",
    "**(0.05 балла)** Проверьте, являются ли палиндромом слово:"
   ]
  },
  {
   "cell_type": "markdown",
   "id": "a9c2d5f2",
   "metadata": {},
   "source": [
    "<p>\n",
    "<details>\n",
    "<summary> <u> Подсказка </u> </summary>\n",
    "\n",
    "Оператор `==` работает и для строк.\n",
    "\n",
    "</details>\n",
    "</p>\n",
    "\n",
    "<p>\n",
    "<details>\n",
    "<summary> <u> Подсказка 2 </u> </summary>\n",
    "\n",
    "Посмотрите внимательно на срезы или погуглите как развернуть строку.\n",
    "\n",
    "</details>\n",
    "</p>"
   ]
  },
  {
   "cell_type": "code",
   "execution_count": null,
   "id": "b9d16b21",
   "metadata": {},
   "outputs": [],
   "source": [
    "word = 'шабаш'\n",
    "\n",
    "# Ваш код"
   ]
  },
  {
   "cell_type": "markdown",
   "id": "38ff1322",
   "metadata": {},
   "source": [
    "**(0.1 балла)** Проверьте, являются ли палиндромами слова из списка (не учитывайте регистр при проверке). Сделайте новый список в котором будут только палиндромы и выведите его:"
   ]
  },
  {
   "cell_type": "code",
   "execution_count": 23,
   "id": "62df924b",
   "metadata": {},
   "outputs": [],
   "source": [
    "words = ['Анна', 'мороз', 'крендель', 'топот', 'потом', 'потоп']\n",
    "\n",
    "# Ваш код"
   ]
  },
  {
   "cell_type": "markdown",
   "id": "2bb59508",
   "metadata": {},
   "source": [
    "✨ **(0.1 балла)** Сделайте функцию `palindrom`, которая будет принимать такой список на вход и возвращать на выход список палиндромов"
   ]
  },
  {
   "cell_type": "code",
   "execution_count": 24,
   "id": "8db2b23f",
   "metadata": {},
   "outputs": [],
   "source": [
    "# Ваш код"
   ]
  },
  {
   "cell_type": "markdown",
   "id": "504737a6",
   "metadata": {},
   "source": [
    "#  Домашние задания"
   ]
  },
  {
   "cell_type": "markdown",
   "id": "663d0b44",
   "metadata": {},
   "source": [
    "### Олбанец-попаданец\n",
    "\n",
    "**(0.05 балла)** Задолго до вашего рождения в нижнем рунете был распространен [олбанский язык](https://ru.wikipedia.org/wiki/%D0%96%D0%B0%D1%80%D0%B3%D0%BE%D0%BD_%D0%BF%D0%B0%D0%B4%D0%BE%D0%BD%D0%BA%D0%BE%D0%B2). Вы оказались в прошлом и решили попробовать себя в роли полевого лингвиста. У вас в распоряжении оказался список самых выдающихся слов из лексикона олбанцев. Создайте новый список, в котором эти слова будут отсортированы в алфавитном порядке."
   ]
  },
  {
   "cell_type": "code",
   "execution_count": null,
   "id": "007b0564",
   "metadata": {},
   "outputs": [],
   "source": [
    "# дополните список вашими любимыми терминами из олбанского\n",
    "top_olban_words = ['аффтар', 'курса', 'убейся', 'апстену']\n",
    "\n",
    "sorted_olban_words = []"
   ]
  },
  {
   "cell_type": "markdown",
   "id": "12b5232d-6cc5-4686-89a3-1c6b7b64a51f",
   "metadata": {},
   "source": [
    "### Да что опять с вашим ftp-сервером не так...\n",
    "\n",
    "**(0.15 балла)** Часто бывает так, что вам нужно загружать кучу данных и выбирать из них только нужные. Уже на следующем занятии мы познакомимся с работой с файлами, как их считывать и открывать! А пока давайте потренируемся фильтровать их: перед вами список файлов, вам нужно отфильтровать их по расширению. Сделайте новый список только из файлов с расширением `.txt`:"
   ]
  },
  {
   "cell_type": "code",
   "execution_count": 26,
   "id": "972bfe13-46b8-424c-81ce-158e47ccea9f",
   "metadata": {},
   "outputs": [],
   "source": [
    "files = ['readme.txt', 'rn_wolff2009.txt', 'tmp.txt', 'sample.py', 'sio2_re.txt', 't16-luminance.fit', \n",
    "         'Untitled1.ipynb', 'wgetlog.txt', 'annual.csv', 'bhcoat.f', 'log.txt']\n",
    "\n",
    "files_txt = []\n",
    "\n",
    "# Ваш код"
   ]
  },
  {
   "cell_type": "markdown",
   "id": "73226dc9-e5ea-4866-8cf3-c38157ddfe9b",
   "metadata": {},
   "source": [
    "**(0.15 балла)** Элементами списка может быть что угодно, даже другой список! В списке ниже каждый список это под-директория (проще говоря папка внутри папки!). Попробуйте найти `.txt` файлы в таком списке:"
   ]
  },
  {
   "cell_type": "code",
   "execution_count": 28,
   "id": "8f69680a-e709-481e-a41b-543462aa7161",
   "metadata": {},
   "outputs": [],
   "source": [
    "files_and_dirs = [['orbits/SPIM_0BR_06809A02_N.mat',  'orbits/SPIM_0BR_06811A01_N.mat', \n",
    "                   'orbits/SPIM_0BR_06814A01_N.mat'],\n",
    "                 ['for_bernard/ices.zip', 'for_bernard/pictures', 'for_bernard/readme.txt', \n",
    "                  'for_bernard/SPIM_0BR_06502A01_N_05_calibr_2011spec025.txt'], \n",
    "                 ['lab/20161020_SPIPA_B_1_223K_i0_e-30_a0.data.csv', 'lab/new.txt', \n",
    "                  'lab/NIR-WaterIceGrains_210micron_196K.data.csv', 'lab/NIR-WaterIceGrains_390micron_196K.data.csv']]\n"
   ]
  },
  {
   "cell_type": "markdown",
   "id": "c4357a96",
   "metadata": {},
   "source": [
    "## Что-то на летнем\n",
    "\n",
    "Студент ФГГТ полюбил кататься на велосипеде. Он себе устроил челлендж: \"Кататься `n` дней подряд\". Известно, что челлендж был успешно выполнен. В день `m` студент попал под ливень и проехал меньше всего километров. В день `k` студент проехал более 20-ти км и больше не опускался ниже этой планки. Каждый день студент записывал в заметки количество проеханных километров.\n",
    "\n",
    "**(0.1 балла)** Сколько дней длился челлендж? `Найдите n`\n",
    "\n",
    "_(История основана на реальных событиях из жизни Маши Д.)_"
   ]
  },
  {
   "cell_type": "code",
   "execution_count": 3,
   "id": "96904ab7",
   "metadata": {},
   "outputs": [],
   "source": [
    "# Заметки студента:\n",
    "nums ='19.30 14.80 19.14 21.66 20.39 19.60 10.44 13.55 18.35 19.89 19.56 14.56 27.14 21.26 21.69 23.57 20.58 21.68 23.46 23.61 22.68 23.40 40.97 30.21 35.60 30.65 39.55 41.44 41.38 28.04'\n"
   ]
  },
  {
   "cell_type": "markdown",
   "id": "a37c6996",
   "metadata": {},
   "source": [
    "**(0.05 балла)** В один из дней студент попал под ливень, и проехал меньше всего всего километров. `Сколько это было километров?`"
   ]
  },
  {
   "cell_type": "code",
   "execution_count": 9,
   "id": "2f25c4b3",
   "metadata": {},
   "outputs": [],
   "source": [
    "# Ваш код"
   ]
  },
  {
   "cell_type": "markdown",
   "id": "11927496",
   "metadata": {},
   "source": [
    "✨ **(0.12 балла)** В какой по счету день челленджа студент попал под ливень? `Найдите m`\n",
    "\n",
    "<p>\n",
    "<details>\n",
    "<summary> <u> Подсказка 1 </u> </summary>\n",
    "\n",
    "Если сравнивать элементы с минимальным элементом списка, то в какой-то момент можно получить `True`.\n",
    "\n",
    "</details>\n",
    "</p>\n",
    "\n",
    "<p>\n",
    "<details>\n",
    "<summary> <u> Подсказка 2 </u> </summary>\n",
    "\n",
    "Говорят, для всех стандратных вопросов можно найти решение в гугле (а вот в ChatGPT/Gemini/etc. нельзя, там обманывают).\n",
    "\n",
    "</details>\n",
    "</p>"
   ]
  },
  {
   "cell_type": "code",
   "execution_count": 10,
   "id": "935a0b28",
   "metadata": {},
   "outputs": [],
   "source": [
    "# Ваш код"
   ]
  },
  {
   "cell_type": "markdown",
   "id": "8102d8bb",
   "metadata": {},
   "source": [
    "✨ **(0.15 балла)** В какой по счету день челленджа студент проехал больше 20-ти км и больше не опускался ниже этой планки? `Найдите k`"
   ]
  },
  {
   "cell_type": "code",
   "execution_count": null,
   "id": "b2a62dae",
   "metadata": {},
   "outputs": [],
   "source": [
    "# Ваш код"
   ]
  },
  {
   "cell_type": "markdown",
   "id": "92c060c8",
   "metadata": {},
   "source": [
    "✨ **(0.15 балла)** Найдите среднее число км за день (`avg`), округлите до двух знаков после запятой."
   ]
  },
  {
   "cell_type": "code",
   "execution_count": null,
   "id": "b0063290",
   "metadata": {},
   "outputs": [],
   "source": [
    "# Ваш код"
   ]
  },
  {
   "cell_type": "markdown",
   "id": "d890f931",
   "metadata": {},
   "source": [
    "**(без балла)** Что делать, если студент иногда разделял значения запятой, а иногда точкой?"
   ]
  },
  {
   "cell_type": "code",
   "execution_count": null,
   "id": "0543108c",
   "metadata": {},
   "outputs": [],
   "source": [
    "# Заметки студента:\n",
    "nums ='19.30 14,80 19.14 21,66 20,39 19.60 10.44 13.55 18.35 19.89 19,56 14,56 27,14 21.26 21.69 23.57 20.58 21.68 23.46 23,61 22.68 23.40 40,97 30,21 35.60 30.65 39,55 41.44 41,38 28,04'\n"
   ]
  },
  {
   "cell_type": "markdown",
   "id": "4a4eef77",
   "metadata": {},
   "source": [
    "### Спотифай (задача из экзамена)\n",
    "\n",
    "**(0.15 балла)**  Дана строка в которой приведены разные треки разных исполнителей. Название исполнителя и трека разделено символом `|`, а разные треки разделены с помощью `,`. В строке есть как минимум один трек. Во второй строке вводится поисковой запрос. Выведите в качестве ответа количество треков, где поисковый запрос встречается или в названии трека или в имени исполнителя. Ищите вне зависимости от регистра, то есть: `tHiS` и `this` должны считаться одним словом."
   ]
  },
  {
   "cell_type": "markdown",
   "id": "9f426669",
   "metadata": {},
   "source": [
    "<p>\n",
    "<details>\n",
    "<summary> <u> Подсказка </u> </summary>\n",
    "\n",
    "Как-то должен быть задействован метод `.split()`\n",
    "\n",
    "</details>\n",
    "</p>"
   ]
  },
  {
   "cell_type": "code",
   "execution_count": 19,
   "id": "fa43ac9b",
   "metadata": {},
   "outputs": [],
   "source": [
    "tracks = 'Childish Gambino | This Is America, Madvillain | Figaro, The Offline | L\\'eau, Paramore | This Is Why, Taylor Swift | this is my trying, The Smiths | This Charming Man, The Avalanches | Because Im Me'\n",
    "search = 'This'\n",
    "\n",
    "# Ваш код"
   ]
  },
  {
   "cell_type": "markdown",
   "id": "bbba430e",
   "metadata": {},
   "source": [
    "✨ **(0.2 балла)** Выведите исполнителей и треки в которых встречается нужный нам поисковой запрос. Сначала выведите исполнителей в виде:\n",
    "\n",
    "`Исполнители в которых встречается *search*: *список исполнителей через запятую*`\n",
    "\n",
    "`Треки в которых встречается *search*: *список треков через запятую*`"
   ]
  },
  {
   "cell_type": "code",
   "execution_count": 22,
   "id": "03cf94ce",
   "metadata": {},
   "outputs": [],
   "source": [
    "# Ваш код"
   ]
  },
  {
   "cell_type": "markdown",
   "id": "9e9a26c2",
   "metadata": {},
   "source": [
    "### Зумерский сленг\n",
    "\n",
    "**(без балла)** Вам дан список с [зумерскими характеристиками типов парней](https://journal.tinkoff.ru/skuf-masik-tubik-checik-shtrikh/). Напишите код, который предлагает пользователю ввести в консоль термин для каждого данного описания, а в конце выводит словарь терминов с описанием.\n",
    "\n",
    "<p>\n",
    "<details>\n",
    "<summary> <u> Как заставить python считывать текст из консоли? </u> </summary>\n",
    "\n",
    "Для этого нужно использовать функцию `input()`. После вызова этой функции открывается небольшое окошко, в которое можно вбить любую строку. Эту строку функция возвращает как результат. Попробуйте скопировать в новую ячейку и выполнить следующий код: \n",
    "    \n",
    "```python\n",
    "result = input()\n",
    "print(result)\n",
    "```\n",
    "\n",
    "</details>\n",
    "</p>\n"
   ]
  },
  {
   "cell_type": "code",
   "execution_count": null,
   "id": "e2ef18b4",
   "metadata": {},
   "outputs": [],
   "source": [
    "# при желании можно расширить список\n",
    "descriptions = [\n",
    "    \"Самая позитивная характеристика. Заботливый, уважительный, ухаживает, дарит подарки. Не манипулирует.\",\n",
    "    \"Максимально нейтральный парень: либо неинтересный, либо просто незнакомый. Сокращение от слова «человечек».\",\n",
    "    \"Отрицательная характеристика. На первый взгляд привлекательный и интересный парень, который оказывается манипулятором.\",\n",
    "    \"Негативная характеристика. Опасный парень, может применять психологическое или физическое насилие.\"\n",
    "]\n",
    "\n"
   ]
  },
  {
   "cell_type": "markdown",
   "id": "505ef0b3-fa3b-414d-983e-3d182dc8c91c",
   "metadata": {},
   "source": [
    "### ✨✨ Пошёл на фиг со своей физической географией\n",
    "\n",
    "**(_Архивная задача, неудачная формулировка условий_)**\n",
    "**(без балла)** Климат любой планеты во многом определяется зависимостью [температуры от высоты](https://ru.wikipedia.org/wiki/%D0%90%D1%82%D0%BC%D0%BE%D1%81%D1%84%D0%B5%D1%80%D0%B0_%D0%97%D0%B5%D0%BC%D0%BB%D0%B8). Один из показателей, который влияет на циркуляцию атмосферы это температурный градиент. Не углублясь в теорию, если температура падает с высотой быстрее опредленного значения, то она становится турбулентной, а если медленнее &ndash; то наоборот, все турбулентности подавляются. Это значение называется *[адиабатическим градиентом](https://ru.wikipedia.org/wiki/%D0%90%D0%B4%D0%B8%D0%B0%D0%B1%D0%B0%D1%82%D0%B8%D1%87%D0%B5%D1%81%D0%BA%D0%B8%D0%B9_%D0%B3%D1%80%D0%B0%D0%B4%D0%B8%D0%B5%D0%BD%D1%82_%D1%82%D0%B5%D0%BC%D0%BF%D0%B5%D1%80%D0%B0%D1%82%D1%83%D1%80%D1%8B)* и равно для Земли 9.8°. Посчитайте градиент температуры для вот этого температурного профиля и запишите его в новый список.\n",
    "\n",
    "Формула температурного градиента выглядит так:\n",
    "$$\n",
    "\\gamma = -dT/dz\n",
    "$$"
   ]
  },
  {
   "cell_type": "markdown",
   "id": "adf963c1-6913-4808-a3c7-e81905b254c8",
   "metadata": {},
   "source": [
    "<p>\n",
    "<details>\n",
    "<summary> <u> Подсказка как считать градиент: </u> </summary>\n",
    "\n",
    "Достаточно просто найти разницу двух последовательных элементов списка температуры и разделить на разницу двух последовательных элементов списка высоты.\n",
    "\n",
    "</details>\n",
    "</p>"
   ]
  },
  {
   "cell_type": "markdown",
   "id": "dbe7f37e-4c33-4b5f-96ea-618ad3a5a9b7",
   "metadata": {},
   "source": [
    "<p>\n",
    "<details>\n",
    "<summary> <u> Подсказка как это написать: </u> </summary>\n",
    "\n",
    "``` python\n",
    "(temp[i+1]-temp[i])/(height[i+1] - height[i])\n",
    "```\n",
    "</details>\n",
    "</p>"
   ]
  },
  {
   "cell_type": "code",
   "execution_count": 51,
   "id": "21d5695c-6ab4-4328-95ac-acb41e168e50",
   "metadata": {},
   "outputs": [],
   "source": [
    "temp = [277.26, 253.09, 235.21, 217.19, 213.61, 218.04, 231.20, 244.94, 257.52, 261.24, 246.37, 230.35, 216.33, 199.73] # температура в Кельвинах\n",
    "height = [0.3754, 4.4931, 7.3842, 10.362, 15.093, 25.607, 34.718, 40.150, 45.231, 51.889, 58.197, 64.680, 70.287, 77.647] # высота в километрах\n",
    "\n",
    "gradient = []"
   ]
  },
  {
   "cell_type": "markdown",
   "id": "dd423c3c-d293-4f34-a321-7d4caab69c8a",
   "metadata": {},
   "source": [
    "✨ Сделайте новый список, где каждый элемент будет равен `True` если атмосфера турбулента, и `False` если нет."
   ]
  },
  {
   "cell_type": "code",
   "execution_count": 50,
   "id": "57649ca5-2308-41e1-9b04-1c21c162c81e",
   "metadata": {},
   "outputs": [],
   "source": [
    "# Ваш код "
   ]
  }
 ],
 "metadata": {
  "kernelspec": {
   "display_name": "Python 3 (ipykernel)",
   "language": "python",
   "name": "python3"
  },
  "language_info": {
   "codemirror_mode": {
    "name": "ipython",
    "version": 3
   },
   "file_extension": ".py",
   "mimetype": "text/x-python",
   "name": "python",
   "nbconvert_exporter": "python",
   "pygments_lexer": "ipython3",
   "version": "3.11.0"
  }
 },
 "nbformat": 4,
 "nbformat_minor": 5
}
