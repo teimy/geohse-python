{
 "cells": [
  {
   "cell_type": "markdown",
   "id": "0f1be657-79c8-47e6-b675-19c21bf56ad1",
   "metadata": {},
   "source": [
    "# **Практическое занятие 4: форматируем строки, читаем файлы, пишем файлы**\n",
    "\n",
    "## **План семинара**\n",
    "\n",
    "- Чего мы хотим добиться сегодня?\n",
    "- Тезисно вспоминаем основные понятия с лекции\n",
    "    - Вопросы?\n",
    "- Подводим итоги семинара "
   ]
  },
  {
   "cell_type": "markdown",
   "id": "4803c8fa-c0c1-4c43-8e95-ffe522d3f393",
   "metadata": {},
   "source": [
    "### `f`-строки\n",
    "\n",
    "Добавив к строке до её начала `f`, можно вставлять в неё переменные, в том числе числовые значения:"
   ]
  },
  {
   "cell_type": "code",
   "execution_count": 1,
   "id": "a3e0ee61-90af-48d0-9beb-2161835b0cbb",
   "metadata": {},
   "outputs": [
    {
     "name": "stdout",
     "output_type": "stream",
     "text": [
      "Сегодня в Москве 24.2 градуса по Цельсию\n"
     ]
    }
   ],
   "source": [
    "degrees = 24.2\n",
    "message = f'Сегодня в Москве {degrees} градуса по Цельсию' \n",
    "\n",
    "print(message)"
   ]
  },
  {
   "cell_type": "markdown",
   "id": "5d37f532-3929-4cba-a31f-c52d35e1377e",
   "metadata": {},
   "source": [
    "### Метод `.format()`\n",
    "\n",
    "Пример использования:"
   ]
  },
  {
   "cell_type": "code",
   "execution_count": 2,
   "id": "1c8f8bb3-0a72-45c9-b565-3c7b6e04dccc",
   "metadata": {},
   "outputs": [
    {
     "name": "stdout",
     "output_type": "stream",
     "text": [
      "Биба и Боба\n"
     ]
    }
   ],
   "source": [
    "print('{person1} и {person2}'.format(person1='Биба', person2='Боба'))"
   ]
  },
  {
   "cell_type": "markdown",
   "id": "909f8400-4b8a-45db-ad44-8ed2f91e2555",
   "metadata": {},
   "source": [
    "# **Работа с файлами в python**\n",
    "\n",
    "Открываем файл так:"
   ]
  },
  {
   "cell_type": "code",
   "execution_count": 14,
   "id": "484a710b-c0ad-42a0-ae54-37fd8008e5d0",
   "metadata": {},
   "outputs": [
    {
     "name": "stdout",
     "output_type": "stream",
     "text": [
      "Moscow 55.7558 37.6178\n",
      "SaintPetersburg 59.9500 30.3167\n",
      "Novosibirsk 55.0333 82.9167\n",
      "Yekaterinburg 56.8356 60.6128\n",
      "NizhniyNovgorod 56.3269 44.0075\n",
      "Kazan 55.7964 49.1089\n",
      "Chelyabinsk 55.1500 61.4000\n",
      "Omsk 54.9667 73.3833\n",
      "Samara 53.2028 50.1408\n",
      "Rostov 47.2333 39.7000\n",
      "Ufa 54.7261 55.9475\n",
      "Krasnoyarsk 56.0089 92.8719\n",
      "Voronezh 51.6717 39.2106\n",
      "Perm 58.0139 56.2489\n",
      "Volgograd 48.7086 44.5147\n",
      "\n"
     ]
    }
   ],
   "source": [
    "with open('data/russian_cities.txt') as f:\n",
    "    russian_cities = f.read()\n",
    "\n",
    "print(russian_cities) # данные с координатами Российских городов"
   ]
  },
  {
   "cell_type": "markdown",
   "id": "62f842c6-a7c5-4cd8-9c99-398af3777497",
   "metadata": {},
   "source": [
    "Методы для считывания файлов:\n",
    "- `.read()` считывает файл полностью в виде строкиу\n",
    "- `.readlines()` считывает все строки и записывает в массив: каждый элемент массива — это новая строка\n",
    "\n",
    "Пример:"
   ]
  },
  {
   "cell_type": "code",
   "execution_count": 11,
   "id": "e0dd9002-9f52-4b38-95cb-b99178bc3e35",
   "metadata": {},
   "outputs": [
    {
     "name": "stdout",
     "output_type": "stream",
     "text": [
      "['Moscow 55.7558 37.6178\\n', 'SaintPetersburg 59.9500 30.3167\\n', 'Novosibirsk 55.0333 82.9167\\n', 'Yekaterinburg 56.8356 60.6128\\n', 'NizhniyNovgorod 56.3269 44.0075\\n', 'Kazan 55.7964 49.1089\\n', 'Chelyabinsk 55.1500 61.4000\\n', 'Omsk 54.9667 73.3833\\n', 'Samara 53.2028 50.1408\\n', 'Rostov 47.2333 39.7000\\n', 'Ufa 54.7261 55.9475\\n', 'Krasnoyarsk 56.0089 92.8719\\n', 'Voronezh 51.6717 39.2106\\n', 'Perm 58.0139 56.2489\\n', 'Volgograd 48.7086 44.5147\\n']\n"
     ]
    }
   ],
   "source": [
    "with open('data/russian_cities.txt') as f:\n",
    "    russian_cities = f.readlines()\n",
    "\n",
    "print(russian_cities) "
   ]
  },
  {
   "cell_type": "markdown",
   "id": "c1c47d02-fa43-4925-9566-03c6649bdead",
   "metadata": {},
   "source": [
    "### Запись в файлы\n",
    "\n",
    "Почти то же самое, пример:"
   ]
  },
  {
   "cell_type": "code",
   "execution_count": 17,
   "id": "400b78e4-ddbd-408e-bb84-5319499e853f",
   "metadata": {},
   "outputs": [
    {
     "name": "stdout",
     "output_type": "stream",
     "text": [
      "Moscow 55.7558 37.6178\r\n",
      "SaintPetersburg 59.9500 30.3167\r\n",
      "Novosibirsk 55.0333 82.9167\r\n",
      "Yekaterinburg 56.8356 60.6128\r\n",
      "NizhniyNovgorod 56.3269 44.0075\r\n",
      "Kazan 55.7964 49.1089\r\n",
      "Chelyabinsk 55.1500 61.4000\r\n",
      "Omsk 54.9667 73.3833\r\n",
      "Samara 53.2028 50.1408\r\n",
      "Rostov 47.2333 39.7000\r\n",
      "Ufa 54.7261 55.9475\r\n",
      "Krasnoyarsk 56.0089 92.8719\r\n",
      "Voronezh 51.6717 39.2106\r\n",
      "Perm 58.0139 56.2489\r\n",
      "Volgograd 48.7086 44.5147\r\n"
     ]
    }
   ],
   "source": [
    "with open('data/duplicate_cities.txt', mode='w') as f:\n",
    "    f.write(russian_cities)\n",
    "\n",
    "%cat data/duplicate_cities.txt # лайфхак для вывода (может не работать на Windows)"
   ]
  },
  {
   "cell_type": "markdown",
   "id": "2add1afd",
   "metadata": {},
   "source": [
    "### Функция `input()`\n",
    "\n",
    "Функция `input()` позволяет считать данные прямо с клавиатуры и записать их в переменную. Выполните следующую ячейку, чтобы попробовать:"
   ]
  },
  {
   "cell_type": "code",
   "execution_count": 19,
   "id": "da1588a2",
   "metadata": {
    "scrolled": false
   },
   "outputs": [
    {
     "name": "stdout",
     "output_type": "stream",
     "text": [
      " бла бла бла\n",
      "Мы ввели  бла бла бла\n"
     ]
    }
   ],
   "source": [
    "inp = input()\n",
    "print(f'Мы ввели {inp}')"
   ]
  },
  {
   "cell_type": "markdown",
   "id": "9d69bce6-6d7b-4afc-943f-1a6ec11e2b56",
   "metadata": {},
   "source": [
    "# **Задания**\n",
    "\n",
    "## Семинарские задания (0.4 балла)\n",
    "\n",
    "### Ну ниче ниче...\n",
    "\n",
    "**(0.05 балла)** Найдите ошибку в следующем блоке кода:"
   ]
  },
  {
   "cell_type": "code",
   "execution_count": 38,
   "id": "14793bc8-c77e-4e22-8c12-81128942cc94",
   "metadata": {},
   "outputs": [
    {
     "ename": "SyntaxError",
     "evalue": "invalid syntax (1512395829.py, line 2)",
     "output_type": "error",
     "traceback": [
      "\u001b[0;36m  Cell \u001b[0;32mIn[38], line 2\u001b[0;36m\u001b[0m\n\u001b[0;31m    message = f'Это переносной модуль с ' singularity ': работа всей моей жизни'\u001b[0m\n\u001b[0m                                          ^\u001b[0m\n\u001b[0;31mSyntaxError\u001b[0m\u001b[0;31m:\u001b[0m invalid syntax\n"
     ]
    }
   ],
   "source": [
    "singularity = 'Сингулярностью'\n",
    "message = f'Это переносной модуль с ' singularity ': работа всей моей жизни' \n",
    "\n",
    "print(message)"
   ]
  },
  {
   "cell_type": "markdown",
   "id": "56c24bc7-f1d6-4743-811f-d22a1f954847",
   "metadata": {},
   "source": [
    "**(0.05 балла)**  А что здесь не так с именем файла? Сравните с примером выше!"
   ]
  },
  {
   "cell_type": "code",
   "execution_count": 1,
   "id": "ab486ba2-6116-4a3f-b1be-8c7b8df1c5e0",
   "metadata": {},
   "outputs": [
    {
     "ename": "FileNotFoundError",
     "evalue": "[Errno 2] No such file or directory: 'data/russian_cities'",
     "output_type": "error",
     "traceback": [
      "\u001b[0;31m---------------------------------------------------------------------------\u001b[0m",
      "\u001b[0;31mFileNotFoundError\u001b[0m                         Traceback (most recent call last)",
      "Cell \u001b[0;32mIn[1], line 1\u001b[0m\n\u001b[0;32m----> 1\u001b[0m \u001b[38;5;28;01mwith\u001b[39;00m \u001b[38;5;28mopen\u001b[39m(\u001b[38;5;124m'\u001b[39m\u001b[38;5;124mdata/russian_cities\u001b[39m\u001b[38;5;124m'\u001b[39m) \u001b[38;5;28;01mas\u001b[39;00m f:\n\u001b[1;32m      2\u001b[0m     russian_cities \u001b[38;5;241m=\u001b[39m f\u001b[38;5;241m.\u001b[39mreadlines()\n\u001b[1;32m      4\u001b[0m \u001b[38;5;28mprint\u001b[39m(russian_cities)\n",
      "File \u001b[0;32m~/anaconda3/lib/python3.11/site-packages/IPython/core/interactiveshell.py:286\u001b[0m, in \u001b[0;36m_modified_open\u001b[0;34m(file, *args, **kwargs)\u001b[0m\n\u001b[1;32m    279\u001b[0m \u001b[38;5;28;01mif\u001b[39;00m file \u001b[38;5;129;01min\u001b[39;00m {\u001b[38;5;241m0\u001b[39m, \u001b[38;5;241m1\u001b[39m, \u001b[38;5;241m2\u001b[39m}:\n\u001b[1;32m    280\u001b[0m     \u001b[38;5;28;01mraise\u001b[39;00m \u001b[38;5;167;01mValueError\u001b[39;00m(\n\u001b[1;32m    281\u001b[0m         \u001b[38;5;124mf\u001b[39m\u001b[38;5;124m\"\u001b[39m\u001b[38;5;124mIPython won\u001b[39m\u001b[38;5;124m'\u001b[39m\u001b[38;5;124mt let you open fd=\u001b[39m\u001b[38;5;132;01m{\u001b[39;00mfile\u001b[38;5;132;01m}\u001b[39;00m\u001b[38;5;124m by default \u001b[39m\u001b[38;5;124m\"\u001b[39m\n\u001b[1;32m    282\u001b[0m         \u001b[38;5;124m\"\u001b[39m\u001b[38;5;124mas it is likely to crash IPython. If you know what you are doing, \u001b[39m\u001b[38;5;124m\"\u001b[39m\n\u001b[1;32m    283\u001b[0m         \u001b[38;5;124m\"\u001b[39m\u001b[38;5;124myou can use builtins\u001b[39m\u001b[38;5;124m'\u001b[39m\u001b[38;5;124m open.\u001b[39m\u001b[38;5;124m\"\u001b[39m\n\u001b[1;32m    284\u001b[0m     )\n\u001b[0;32m--> 286\u001b[0m \u001b[38;5;28;01mreturn\u001b[39;00m io_open(file, \u001b[38;5;241m*\u001b[39margs, \u001b[38;5;241m*\u001b[39m\u001b[38;5;241m*\u001b[39mkwargs)\n",
      "\u001b[0;31mFileNotFoundError\u001b[0m: [Errno 2] No such file or directory: 'data/russian_cities'"
     ]
    }
   ],
   "source": [
    "with open('data/russian_cities') as f:\n",
    "    russian_cities = f.readlines()\n",
    "\n",
    "print(russian_cities) "
   ]
  },
  {
   "cell_type": "markdown",
   "id": "f51b301c",
   "metadata": {},
   "source": [
    "**(0.025 балла)** Ну и напоследок:"
   ]
  },
  {
   "cell_type": "code",
   "execution_count": 2,
   "id": "6d584bda",
   "metadata": {},
   "outputs": [
    {
     "ename": "FileNotFoundError",
     "evalue": "[Errno 2] No such file or directory: 'russian_cities'",
     "output_type": "error",
     "traceback": [
      "\u001b[0;31m---------------------------------------------------------------------------\u001b[0m",
      "\u001b[0;31mFileNotFoundError\u001b[0m                         Traceback (most recent call last)",
      "Cell \u001b[0;32mIn[2], line 1\u001b[0m\n\u001b[0;32m----> 1\u001b[0m \u001b[38;5;28;01mwith\u001b[39;00m \u001b[38;5;28mopen\u001b[39m(\u001b[38;5;124m'\u001b[39m\u001b[38;5;124mrussian_cities\u001b[39m\u001b[38;5;124m'\u001b[39m) \u001b[38;5;28;01mas\u001b[39;00m f:\n\u001b[1;32m      2\u001b[0m     russian_cities \u001b[38;5;241m=\u001b[39m f\u001b[38;5;241m.\u001b[39mreadlines()\n\u001b[1;32m      4\u001b[0m \u001b[38;5;28mprint\u001b[39m(russian_cities)\n",
      "File \u001b[0;32m~/anaconda3/lib/python3.11/site-packages/IPython/core/interactiveshell.py:286\u001b[0m, in \u001b[0;36m_modified_open\u001b[0;34m(file, *args, **kwargs)\u001b[0m\n\u001b[1;32m    279\u001b[0m \u001b[38;5;28;01mif\u001b[39;00m file \u001b[38;5;129;01min\u001b[39;00m {\u001b[38;5;241m0\u001b[39m, \u001b[38;5;241m1\u001b[39m, \u001b[38;5;241m2\u001b[39m}:\n\u001b[1;32m    280\u001b[0m     \u001b[38;5;28;01mraise\u001b[39;00m \u001b[38;5;167;01mValueError\u001b[39;00m(\n\u001b[1;32m    281\u001b[0m         \u001b[38;5;124mf\u001b[39m\u001b[38;5;124m\"\u001b[39m\u001b[38;5;124mIPython won\u001b[39m\u001b[38;5;124m'\u001b[39m\u001b[38;5;124mt let you open fd=\u001b[39m\u001b[38;5;132;01m{\u001b[39;00mfile\u001b[38;5;132;01m}\u001b[39;00m\u001b[38;5;124m by default \u001b[39m\u001b[38;5;124m\"\u001b[39m\n\u001b[1;32m    282\u001b[0m         \u001b[38;5;124m\"\u001b[39m\u001b[38;5;124mas it is likely to crash IPython. If you know what you are doing, \u001b[39m\u001b[38;5;124m\"\u001b[39m\n\u001b[1;32m    283\u001b[0m         \u001b[38;5;124m\"\u001b[39m\u001b[38;5;124myou can use builtins\u001b[39m\u001b[38;5;124m'\u001b[39m\u001b[38;5;124m open.\u001b[39m\u001b[38;5;124m\"\u001b[39m\n\u001b[1;32m    284\u001b[0m     )\n\u001b[0;32m--> 286\u001b[0m \u001b[38;5;28;01mreturn\u001b[39;00m io_open(file, \u001b[38;5;241m*\u001b[39margs, \u001b[38;5;241m*\u001b[39m\u001b[38;5;241m*\u001b[39mkwargs)\n",
      "\u001b[0;31mFileNotFoundError\u001b[0m: [Errno 2] No such file or directory: 'russian_cities'"
     ]
    }
   ],
   "source": [
    "with open('russian_cities') as f:\n",
    "    russian_cities = f.readlines()\n",
    "\n",
    "print(russian_cities) "
   ]
  },
  {
   "cell_type": "markdown",
   "id": "48d95f1e",
   "metadata": {},
   "source": [
    "### Запускаем гуся работяги\n",
    "\n",
    "(**0.05 балла**) Какое-то время в назад в русскоязычном сегменте интернета было популярно спамить [ASCII-изображением](https://ru.wikipedia.org/wiki/%D0%9F%D1%81%D0%B5%D0%B2%D0%B4%D0%BE%D0%B3%D1%80%D0%B0%D1%84%D0%B8%D0%BA%D0%B0) гуся (честно говоря больше похоже на чайку) в [комментарии и трансляции](https://yandex.ru/q/question/otkuda_vzialas_fraza_zapuskaem_gusia_114354b5/). Давайте попробуем поработать с гусем! Считайте гуся в строчку из файла `data/goose.txt` и напечатайте его:\n",
    "\n",
    "> ☝️ Когда будете открывать файл с помощью функции `open`, передайте в нее параметр `encoding='utf8'` (в `windows` может считаться неудачная кодировка). Вы должны увидеть гуся, когда выведете строчку принтом, а не непонятные очертания гуся.\n",
    "\n",
    "<p>\n",
    "<details>\n",
    "<summary> <u> Подсказка </u> </summary>\n",
    "\n",
    "```python\n",
    "with open('data/goose.txt', encoding='utf8') as f:\n",
    "    # дальше сами\n",
    "```\n",
    "</details>\n",
    "</p>"
   ]
  },
  {
   "cell_type": "code",
   "execution_count": 8,
   "id": "a7c41a8a",
   "metadata": {},
   "outputs": [],
   "source": [
    "# Ваш код"
   ]
  },
  {
   "cell_type": "markdown",
   "id": "c827cc1d",
   "metadata": {},
   "source": [
    "(**0.05 балла**) Используя `python` скопируйте содержимое этого текстового файла в файл в новый файл в директории `data`:"
   ]
  },
  {
   "cell_type": "code",
   "execution_count": 8,
   "id": "373398a4",
   "metadata": {},
   "outputs": [],
   "source": [
    "# Ваш код"
   ]
  },
  {
   "cell_type": "markdown",
   "id": "39a2c4fa",
   "metadata": {},
   "source": [
    "<p>\n",
    "<details>\n",
    "<summary> <u> Ой! А у меня файл как-то стерся!!!!!!! Помогите </u> </summary>\n",
    "\n",
    "Если вы случайно стерли содержимое файла, скачайте его заново с `github`. Будьте острожны с параметром `mode=w`.\n",
    "    \n",
    "</details>\n",
    "</p>"
   ]
  },
  {
   "cell_type": "markdown",
   "id": "9a1287a5",
   "metadata": {},
   "source": [
    "(**0.1 балла**) Посчитайте количество строчек в файле `data/goose.txt`:"
   ]
  },
  {
   "cell_type": "code",
   "execution_count": 10,
   "id": "2b67a8de",
   "metadata": {},
   "outputs": [],
   "source": [
    "# Ваш код"
   ]
  },
  {
   "cell_type": "markdown",
   "id": "6e552aaa",
   "metadata": {},
   "source": [
    "✨ (**0.05 балла**) Не с помощью питона, а с помощью проводника и смекалки найдите *абсолютный* путь до файла `data/goose.txt`."
   ]
  },
  {
   "cell_type": "code",
   "execution_count": null,
   "id": "c82fc92e",
   "metadata": {},
   "outputs": [],
   "source": [
    "# Впишите сюда путь"
   ]
  },
  {
   "cell_type": "markdown",
   "id": "9c371b1c",
   "metadata": {},
   "source": [
    "✨ (**0.05 балла**) Используя метод `.replace()` (найдите сами документацию), замените все символы `░` на пробелы. Выведите получишийся результат в новый файл (из предыдщего пункта)"
   ]
  },
  {
   "cell_type": "code",
   "execution_count": 9,
   "id": "3476c467",
   "metadata": {},
   "outputs": [],
   "source": [
    "# Ваш код"
   ]
  },
  {
   "cell_type": "markdown",
   "id": "f34d1e84",
   "metadata": {},
   "source": [
    "### (0.15 балла) Задача из независимого экзамена: Что-то не так (или так?)\n",
    "\n",
    "- На первой строке вводится слово\n",
    "- Затем вводится последовательность букв\n",
    "- Если слово начинается с введенной последовательности и его длина больше 5 символов, то печатается строка \"подходит\"\n",
    "\n",
    "> ☝️ Под \"На первой строке вводится слово\" имеется в виду `input()`. Далее должен быть еще один `input()` для последовательности букв."
   ]
  },
  {
   "cell_type": "code",
   "execution_count": 7,
   "id": "6d5ec915",
   "metadata": {},
   "outputs": [],
   "source": [
    "# Ваш код"
   ]
  },
  {
   "cell_type": "markdown",
   "id": "73f451f5",
   "metadata": {},
   "source": [
    "# Домашнее задание (0.4 балла)"
   ]
  },
  {
   "cell_type": "markdown",
   "id": "c00baffe-d11a-4ade-ae33-0dda71a7b9bd",
   "metadata": {},
   "source": [
    "### Самые большие... пики?\n",
    "\n",
    "**(0.05 балла)** Считайте файл `data/peaks.txt` с названием самых высоких пиков в мире и их относительной высотой (как список строк или как одну большую строку):"
   ]
  },
  {
   "cell_type": "code",
   "execution_count": 6,
   "id": "65e3d7cb-d52b-4841-9687-30511a79d267",
   "metadata": {},
   "outputs": [],
   "source": [
    "# Ваш код"
   ]
  },
  {
   "cell_type": "markdown",
   "id": "24e20f04-3e77-41c7-83ef-b7db337162f1",
   "metadata": {},
   "source": [
    "**(0.15 балла)** Сделайте из этого файла два списка: название и относительная высота. Это задание можно (но не обязательно) решить сразу несколькими разными способами."
   ]
  },
  {
   "cell_type": "code",
   "execution_count": 36,
   "id": "ecb94c1e-2361-478f-8c9e-62450d2265b6",
   "metadata": {},
   "outputs": [],
   "source": [
    "# Ваш код"
   ]
  },
  {
   "cell_type": "markdown",
   "id": "95d1b1a8-c556-416f-ab7e-f6c00714eaca",
   "metadata": {},
   "source": [
    "✨ **(0.1 балл)** Найдите высоту пять самых высоких пиков (без названия, просто пять значений высоты):"
   ]
  },
  {
   "cell_type": "code",
   "execution_count": null,
   "id": "ac916ff3-54f0-4aa0-b235-3181c668df44",
   "metadata": {},
   "outputs": [],
   "source": [
    "# Ваш код"
   ]
  },
  {
   "cell_type": "markdown",
   "id": "babc50df-7dd3-4359-bca5-5a949c936697",
   "metadata": {},
   "source": [
    "✨✨ **(0.2 балла)** Найдите название пяти самых высоких пиков. Для этого вам понадобятся [метод `.index()`](https://www.w3schools.com/python/ref_list_index.asp):"
   ]
  },
  {
   "cell_type": "code",
   "execution_count": 37,
   "id": "061f4323-9c18-4aee-97ca-479e4e8e2c1f",
   "metadata": {},
   "outputs": [],
   "source": [
    "# Ваш код"
   ]
  },
  {
   "cell_type": "markdown",
   "id": "1b0fad09",
   "metadata": {},
   "source": [
    "### Задание из независимого экзамена 2\n",
    "\n",
    "**(0.2 балла)** Функция `get_passwords`, параметрами которой является список строк `passwords` (набор возможных паролей) и целое число `rule` (определяет правило, согласно которому должен быть составлен пароль). \n",
    "\n",
    "\n",
    "Параметр функции `rule` может принимать два возможных значения:\n",
    "- 0 (пароль должен состоять только из цифр)\n",
    "- 1 (пароль должен состоять только из букв)\n",
    "\n",
    "Функция должна возвращать список — пароли, которые соответствуют указанному в функции правилу составления.\n",
    "Пароли добавляются в список в том же порядке, как и в исходном списке.\n",
    "\n",
    "Если таких паролей нет, то возвращается пустой список.\n",
    "\n",
    "> ☝️ Эта задача не разбита на подпункты, но если вы сделаете часть задания, то получите часть баллов."
   ]
  },
  {
   "cell_type": "code",
   "execution_count": null,
   "id": "9603179c",
   "metadata": {},
   "outputs": [],
   "source": [
    "# Ваш код"
   ]
  },
  {
   "cell_type": "markdown",
   "id": "d4109f3f-fb01-47e3-a63e-633c98adaa1d",
   "metadata": {},
   "source": [
    "### Дети внимание задание на следующие полчаса прочитать войну и мир\n",
    "\n",
    "**(0.025 балла)** Считайте файл `war_and_peace.txt` в директории `data` в одну большую строку:"
   ]
  },
  {
   "cell_type": "code",
   "execution_count": null,
   "id": "6b132671-2dc7-4576-acf3-0f0e8a197ff6",
   "metadata": {},
   "outputs": [],
   "source": [
    "# Ваш код"
   ]
  },
  {
   "cell_type": "markdown",
   "id": "92dfdde4-2e3f-492b-b2b2-97f21a4f5477",
   "metadata": {},
   "source": [
    "**(0.1 балла)** Найдите первое вхождение имени `Пьер` в этом тексте. Выведите в каком контексте оно первый раз используется: "
   ]
  },
  {
   "cell_type": "code",
   "execution_count": null,
   "id": "82d9090a-472e-4a00-a557-424659f498ab",
   "metadata": {},
   "outputs": [],
   "source": [
    "# Ваш код"
   ]
  },
  {
   "cell_type": "markdown",
   "id": "dca539c2-a2c9-4433-a96f-06b61275a77f",
   "metadata": {},
   "source": [
    "✨ **(0.15 балла)** Метод `.find()` ищет только первое вхождение нужный нам подстроки. Найдите все вхождения подстроки `Пьер` в тексте Войны и мира:"
   ]
  },
  {
   "cell_type": "code",
   "execution_count": null,
   "id": "a71dddba-469b-4a8a-8fac-f06c0bd90c70",
   "metadata": {},
   "outputs": [],
   "source": [
    "# Ваш код"
   ]
  },
  {
   "cell_type": "markdown",
   "id": "aa064d52-e7b6-4b9a-8b89-b0267e80cc8a",
   "metadata": {},
   "source": [
    "✨✨✨✨ **(без балла)** Используя полученные знания, найдите самое часто встречающееся слово в тексте:"
   ]
  },
  {
   "cell_type": "code",
   "execution_count": null,
   "id": "baf5b98b-c3a3-4f7e-9420-7b6c3d2e8372",
   "metadata": {},
   "outputs": [],
   "source": [
    "# Ваш код"
   ]
  },
  {
   "cell_type": "markdown",
   "id": "dd54e9f5",
   "metadata": {},
   "source": [
    "### Задание из независимого экзамена 3\n",
    "\n",
    "✨✨ **(0.3 балла)** Преподаватель хочет определить рейтинг студентов по итогам четырех тестов. Напишите программу, которая поможет преподавателю.\n",
    "\n",
    "Формат ввода:\n",
    "- Вводится информация о каждом студенте в формате '<имя студента>: «оценки за четыре теста через запятую и пробел». Между собой информация о студентах разделена точкой с запятой и пробелом. (**Примечение: считывайте с помощью `input()`**)\n",
    "- Гарантируется, что имена студентов не повторяются.\n",
    "- Гарантируется, что строка состоит минимум из информации об одном студенте.\n",
    "\n",
    "Формат вывода:\n",
    "- Имена студентов в порядке от меньшего среднего балла к большему.\n",
    "- Каждое имя должно выводиться с новой строки.\n",
    "- ~Если средний балл студентов одинаковый, то имена идут в алфавитном порядке.~ <- это слишком сложно\n",
    "\n",
    "\n",
    "Пример ввода: \n",
    "\n",
    "`Лиза: 3, 7, 2, 3; Ева-Мария: 2, 8, 9, 2; Ира: 4, 2, 1, 9; Карина: 6, 6, 2, 9`\n",
    "\n",
    "> ☝️ Вам пригодится [этот ответ на stackoverflow](https://stackoverflow.com/questions/6618515/sorting-list-according-to-corresponding-values-from-a-parallel-list). Мы не проходили подробно эту конструкцию, попробуйте с ней разобраться сами."
   ]
  },
  {
   "cell_type": "code",
   "execution_count": null,
   "id": "761a55df",
   "metadata": {},
   "outputs": [],
   "source": [
    "# Ваш код"
   ]
  }
 ],
 "metadata": {
  "kernelspec": {
   "display_name": "Python 3 (ipykernel)",
   "language": "python",
   "name": "python3"
  },
  "language_info": {
   "codemirror_mode": {
    "name": "ipython",
    "version": 3
   },
   "file_extension": ".py",
   "mimetype": "text/x-python",
   "name": "python",
   "nbconvert_exporter": "python",
   "pygments_lexer": "ipython3",
   "version": "3.11.0"
  }
 },
 "nbformat": 4,
 "nbformat_minor": 5
}
